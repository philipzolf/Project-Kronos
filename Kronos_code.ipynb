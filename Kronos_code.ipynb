{
 "cells": [
  {
   "cell_type": "code",
   "execution_count": 1,
   "metadata": {},
   "outputs": [],
   "source": [
    "# import numpy as np\n",
    "\n",
    "# def rk4(x0, u0, delta_t, T):\n",
    "#     times = np.arange(0, T, delta_t)\n",
    "#     u_rk = []\n",
    "#     u_rk.append(np.array([x0, u0]))\n",
    "    \n",
    "#     for i in range(len(times) - 1):\n",
    "#         k_1 = f_true(u_rk[i][0], u_rk[i][1])\n",
    "#         k_2 = f_true(u_rk[i][0] + 0.5*delta_t*k_1[0], u_rk[i][1] + 0.5*delta_t*k_1[1])\n",
    "#         k_3 = f_true(u_rk[i][0] + 0.5*delta_t*k_2[0], u_rk[i][1] + 0.5*delta_t*k_2[1])\n",
    "#         k_4 = f_true(u_rk[i][0] + delta_t*k_3[0], u_rk[i][1] + delta_t*k_3[1])\n",
    "#         u_rk.append([u_rk[i][0] + delta_t * (k_1[0] + 2*k_2[0] + 2*k_3[0] + k_4[0]) / 6, u_rk[i][1] + delta_t * (k_1[1] + 2*k_2[1] + 2*k_3[1] + k_4[1]) / 6])\n",
    "#     return times, np.array(u_rk)"
   ]
  },
  {
   "cell_type": "code",
   "execution_count": 2,
   "metadata": {},
   "outputs": [],
   "source": [
    "import numpy as np\n",
    "\n",
    "def rk4(u_k, delta_t):\n",
    "    k1 = delta_t*f_true(u_k)\n",
    "    k2 = delta_t*f_true(u_k+k1/2)\n",
    "    k3 = delta_t*f_true(u_k+k2/2)\n",
    "    k4 = delta_t*f_true(u_k+k3)\n",
    "\n",
    "    ukplus1 = u_k + (k1 + 2*k2 + 2*k3 + k4)/6\n",
    "    return ukplus1\n",
    "\n",
    "def ivp_rk4(u_0, T, delta_t):\n",
    "    times = []\n",
    "    u = []\n",
    "    num_elements = int(T / delta_t) + 1\n",
    "    for t_k in np.linspace(0,T,num_elements):\n",
    "        times.append(t_k)\n",
    "        u.append(u_0)\n",
    "        u_k = rk4(u_0, delta_t)\n",
    "        u_0 = u_k\n",
    "    return np.array(u), times"
   ]
  },
  {
   "cell_type": "code",
   "execution_count": 3,
   "metadata": {},
   "outputs": [],
   "source": [
    "G = 6.674e-11\n",
    "m = np.array([568.32e24,1.345e23,2.24e23])\n",
    "def f_true(u):\n",
    "    r = u[0]\n",
    "    v = u[1]\n",
    "    rddot = np.zeros((3,3))\n",
    "    for i in range(0,3):\n",
    "        for j in range(0,3):\n",
    "            if i == j:\n",
    "                continue\n",
    "            rddot[i] += G*m[i]*(r[j] - r[i])/np.linalg.norm(r[j] - r[i])**2\n",
    "    return [rddot, v]\n"
   ]
  },
  {
   "cell_type": "code",
   "execution_count": 4,
   "metadata": {},
   "outputs": [
    {
     "ename": "MemoryError",
     "evalue": "",
     "output_type": "error",
     "traceback": [
      "\u001b[1;31m---------------------------------------------------------------------------\u001b[0m",
      "\u001b[1;31mMemoryError\u001b[0m                               Traceback (most recent call last)",
      "\u001b[1;32mc:\\Users\\ishaa\\Desktop\\School Work\\Courses\\3rd Year Fall\\AE370\\Project\\Project-Kronos\\Kronos_code.ipynb Cell 4\u001b[0m line \u001b[0;36m1\n\u001b[0;32m     <a href='vscode-notebook-cell:/c%3A/Users/ishaa/Desktop/School%20Work/Courses/3rd%20Year%20Fall/AE370/Project/Project-Kronos/Kronos_code.ipynb#W2sZmlsZQ%3D%3D?line=9'>10</a>\u001b[0m v0[\u001b[39m2\u001b[39m] \u001b[39m=\u001b[39m [\u001b[39m0.0\u001b[39m, \u001b[39m0.0\u001b[39m, \u001b[39m0.0\u001b[39m]\n\u001b[0;32m     <a href='vscode-notebook-cell:/c%3A/Users/ishaa/Desktop/School%20Work/Courses/3rd%20Year%20Fall/AE370/Project/Project-Kronos/Kronos_code.ipynb#W2sZmlsZQ%3D%3D?line=11'>12</a>\u001b[0m u0 \u001b[39m=\u001b[39m np\u001b[39m.\u001b[39marray([r0, v0])\n\u001b[1;32m---> <a href='vscode-notebook-cell:/c%3A/Users/ishaa/Desktop/School%20Work/Courses/3rd%20Year%20Fall/AE370/Project/Project-Kronos/Kronos_code.ipynb#W2sZmlsZQ%3D%3D?line=12'>13</a>\u001b[0m times, u_rk \u001b[39m=\u001b[39m ivp_rk4(u0, dt, T)\n",
      "\u001b[1;32mc:\\Users\\ishaa\\Desktop\\School Work\\Courses\\3rd Year Fall\\AE370\\Project\\Project-Kronos\\Kronos_code.ipynb Cell 4\u001b[0m line \u001b[0;36m1\n\u001b[0;32m     <a href='vscode-notebook-cell:/c%3A/Users/ishaa/Desktop/School%20Work/Courses/3rd%20Year%20Fall/AE370/Project/Project-Kronos/Kronos_code.ipynb#W2sZmlsZQ%3D%3D?line=16'>17</a>\u001b[0m     times\u001b[39m.\u001b[39mappend(t_k)\n\u001b[0;32m     <a href='vscode-notebook-cell:/c%3A/Users/ishaa/Desktop/School%20Work/Courses/3rd%20Year%20Fall/AE370/Project/Project-Kronos/Kronos_code.ipynb#W2sZmlsZQ%3D%3D?line=17'>18</a>\u001b[0m     u\u001b[39m.\u001b[39mappend(u_0)\n\u001b[1;32m---> <a href='vscode-notebook-cell:/c%3A/Users/ishaa/Desktop/School%20Work/Courses/3rd%20Year%20Fall/AE370/Project/Project-Kronos/Kronos_code.ipynb#W2sZmlsZQ%3D%3D?line=18'>19</a>\u001b[0m     u_k \u001b[39m=\u001b[39m rk4(u_0, delta_t)\n\u001b[0;32m     <a href='vscode-notebook-cell:/c%3A/Users/ishaa/Desktop/School%20Work/Courses/3rd%20Year%20Fall/AE370/Project/Project-Kronos/Kronos_code.ipynb#W2sZmlsZQ%3D%3D?line=19'>20</a>\u001b[0m     u_0 \u001b[39m=\u001b[39m u_k\n\u001b[0;32m     <a href='vscode-notebook-cell:/c%3A/Users/ishaa/Desktop/School%20Work/Courses/3rd%20Year%20Fall/AE370/Project/Project-Kronos/Kronos_code.ipynb#W2sZmlsZQ%3D%3D?line=20'>21</a>\u001b[0m \u001b[39mreturn\u001b[39;00m np\u001b[39m.\u001b[39marray(u), times\n",
      "\u001b[1;32mc:\\Users\\ishaa\\Desktop\\School Work\\Courses\\3rd Year Fall\\AE370\\Project\\Project-Kronos\\Kronos_code.ipynb Cell 4\u001b[0m line \u001b[0;36m4\n\u001b[0;32m      <a href='vscode-notebook-cell:/c%3A/Users/ishaa/Desktop/School%20Work/Courses/3rd%20Year%20Fall/AE370/Project/Project-Kronos/Kronos_code.ipynb#W2sZmlsZQ%3D%3D?line=2'>3</a>\u001b[0m \u001b[39mdef\u001b[39;00m \u001b[39mrk4\u001b[39m(u_k, delta_t):\n\u001b[1;32m----> <a href='vscode-notebook-cell:/c%3A/Users/ishaa/Desktop/School%20Work/Courses/3rd%20Year%20Fall/AE370/Project/Project-Kronos/Kronos_code.ipynb#W2sZmlsZQ%3D%3D?line=3'>4</a>\u001b[0m     k1 \u001b[39m=\u001b[39m delta_t\u001b[39m*\u001b[39;49mf_true(u_k)\n\u001b[0;32m      <a href='vscode-notebook-cell:/c%3A/Users/ishaa/Desktop/School%20Work/Courses/3rd%20Year%20Fall/AE370/Project/Project-Kronos/Kronos_code.ipynb#W2sZmlsZQ%3D%3D?line=4'>5</a>\u001b[0m     k2 \u001b[39m=\u001b[39m delta_t\u001b[39m*\u001b[39mf_true(u_k\u001b[39m+\u001b[39mk1\u001b[39m/\u001b[39m\u001b[39m2\u001b[39m)\n\u001b[0;32m      <a href='vscode-notebook-cell:/c%3A/Users/ishaa/Desktop/School%20Work/Courses/3rd%20Year%20Fall/AE370/Project/Project-Kronos/Kronos_code.ipynb#W2sZmlsZQ%3D%3D?line=5'>6</a>\u001b[0m     k3 \u001b[39m=\u001b[39m delta_t\u001b[39m*\u001b[39mf_true(u_k\u001b[39m+\u001b[39mk2\u001b[39m/\u001b[39m\u001b[39m2\u001b[39m)\n",
      "\u001b[1;31mMemoryError\u001b[0m: "
     ]
    }
   ],
   "source": [
    "T, dt = 300 * 365 * 24 * 3600, 60*60*24\n",
    "r0 = np.zeros((3,3))\n",
    "r0[0] = [0.0, 0.0, 0.0]\n",
    "r0[1] = [-1.22e9, 0.0,0.0]\n",
    "r0[2] = [1.22e9 + 1e7, 0.0, 0.0]\n",
    "# print(r0)\n",
    "v0 = np.zeros((3,3))\n",
    "v0[0] = [0.0, 0.0, 0.0]\n",
    "v0[1] = 5.57*r0[1]/np.linalg.norm(r0[1])\n",
    "v0[2] = [0.0, 0.0, 0.0]\n",
    "\n",
    "u0 = np.array([r0, v0])\n",
    "times, u_rk = ivp_rk4(u0, dt, T)"
   ]
  },
  {
   "cell_type": "code",
   "execution_count": null,
   "metadata": {},
   "outputs": [],
   "source": [
    "import matplotlib.pyplot as plt\n",
    "\n",
    "fig = plt.figure()\n",
    "ax = fig.add_subplot(projection='3d')\n",
    "\n",
    "ur = u_rk[:,0]\n",
    "uv = u_rk[:,1]\n",
    "\n",
    "rs = ur[:,0]\n",
    "rt = ur[:,1]\n",
    "rds = ur[:,2]\n",
    "# print(uv[:,0])\n",
    "\n",
    "ax.scatter(rs[:,0], rs[:,1], rs[:,2], color=\"yellow\")\n",
    "ax.scatter(rt[:,0], rt[:,1], rt[:,2], color=\"blue\")\n",
    "ax.scatter(rds[:,0], rds[:,1], rds[:,2], color=\"green\")\n",
    "ax.set_xlabel('X')\n",
    "ax.set_ylabel('Y')\n",
    "ax.set_zlabel('Z')\n",
    "fig.suptitle(\"3 Body Dynamics\")\n",
    "# plt.xlim(-1.22e12,1.22e9)\n",
    "# plt.ylim(0, 1.22e9)\n",
    "plt.show()"
   ]
  },
  {
   "cell_type": "code",
   "execution_count": 6,
   "metadata": {},
   "outputs": [
    {
     "data": {
      "text/plain": [
       "array([[1., 1., 1.],\n",
       "       [0., 0., 0.],\n",
       "       [0., 0., 0.]])"
      ]
     },
     "execution_count": 6,
     "metadata": {},
     "output_type": "execute_result"
    }
   ],
   "source": [
    "rddot = np.zeros((3,3))\n",
    "rddot[0] = [1,1,1]\n",
    "rddot"
   ]
  }
 ],
 "metadata": {
  "kernelspec": {
   "display_name": "Python 3.10.7 64-bit",
   "language": "python",
   "name": "python3"
  },
  "language_info": {
   "codemirror_mode": {
    "name": "ipython",
    "version": 3
   },
   "file_extension": ".py",
   "mimetype": "text/x-python",
   "name": "python",
   "nbconvert_exporter": "python",
   "pygments_lexer": "ipython3",
   "version": "3.10.7"
  },
  "orig_nbformat": 4,
  "vscode": {
   "interpreter": {
    "hash": "aee8b7b246df8f9039afb4144a1f6fd8d2ca17a180786b69acc140d282b71a49"
   }
  }
 },
 "nbformat": 4,
 "nbformat_minor": 2
}
