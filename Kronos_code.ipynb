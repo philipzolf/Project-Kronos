{
 "cells": [
  {
   "cell_type": "code",
   "execution_count": null,
   "metadata": {},
   "outputs": [],
   "source": [
    "import numpy as np\n",
    "\n",
    "def rk4(xi, x0=0.01, u0=0.173, delta_t=0.1, T=20, omega=0.9214):\n",
    "    times = np.arange(0, T, delta_t)\n",
    "    u_rk = np.zeros((len(times), 2))\n",
    "    u_rk[0] = [x0, u0]\n",
    "    \n",
    "    for i in range(len(times) - 1):\n",
    "        k_1 = f_true(u_rk[i][0], u_rk[i][1], xi)\n",
    "        k_2 = f_true(u_rk[i][0] + 0.5*delta_t*k_1[0], u_rk[i][1] + 0.5*delta_t*k_1[1], xi)\n",
    "        k_3 = f_true(u_rk[i][0] + 0.5*delta_t*k_2[0], u_rk[i][1] + 0.5*delta_t*k_2[1], xi)\n",
    "        k_4 = f_true(u_rk[i][0] + delta_t*k_3[0], u_rk[i][1] + delta_t*k_3[1], xi)\n",
    "        u_rk[i+1] = [u_rk[i][0] + delta_t * (k_1[0] + 2*k_2[0] + 2*k_3[0] + k_4[0]) / 6, u_rk[i][1] + delta_t * (k_1[1] + 2*k_2[1] + 2*k_3[1] + k_4[1]) / 6]\n",
    "    return times, u_rk"
   ]
  },
  {
   "cell_type": "code",
   "execution_count": null,
   "metadata": {},
   "outputs": [],
   "source": [
    "G = 1\n",
    "m = [saturn, titan, death_star]\n",
    "def f_true(r):\n",
    "    for i in range(0,3):\n",
    "        for j in range(0,3):\n",
    "            if i == j:\n",
    "                continue\n",
    "            rddot[i] += G*m[i]*(r[j] - r[i])/np.linalg.norm(r[j] - r[i])**2\n",
    "    return rddot\n"
   ]
  }
 ],
 "metadata": {
  "kernelspec": {
   "display_name": "Python 3.10.7 64-bit",
   "language": "python",
   "name": "python3"
  },
  "language_info": {
   "name": "python",
   "version": "3.10.7"
  },
  "orig_nbformat": 4,
  "vscode": {
   "interpreter": {
    "hash": "aee8b7b246df8f9039afb4144a1f6fd8d2ca17a180786b69acc140d282b71a49"
   }
  }
 },
 "nbformat": 4,
 "nbformat_minor": 2
}
